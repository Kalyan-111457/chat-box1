{
  "cells": [
    {
      "cell_type": "code",
      "execution_count": null,
      "metadata": {
        "id": "oOHcrDHsp8ss"
      },
      "outputs": [],
      "source": []
    },
    {
      "cell_type": "markdown",
      "metadata": {
        "id": "IBGF0wuVAHzP"
      },
      "source": [
        "CREATE A CHAT BOX"
      ]
    },
    {
      "cell_type": "code",
      "execution_count": null,
      "metadata": {
        "id": "UNa2J0r1_-vc"
      },
      "outputs": [],
      "source": [
        "import tensorflow as tf\n",
        "import numpy as np                #to perform mathematical operations we use numpy module"
      ]
    },
    {
      "cell_type": "code",
      "execution_count": null,
      "metadata": {
        "id": "AVyEC-5RsoNy"
      },
      "outputs": [],
      "source": [
        "# now create class and write train method\n",
        "class chatbox:\n",
        "  def __init__(self):\n",
        "    pass\n",
        "  def train( self,user_input,k):\n",
        "    user_input=user_input.lower()                                                 # convert user input into lower case\n",
        "    for key in k:                                                                 #take the fisrt key element and transfer to key\n",
        "        if key in user_input and (\" \" + key + \" \") in (\" \" + user_input + \" \"):   #check whether it is matches to user_input and increment key\n",
        "            return k[key]                                                         #if matches print it\n",
        "\n",
        "\n",
        "    return k[\"default\"]                                                           #if not match print default\n",
        "\n",
        "\n",
        "\n",
        "\n"
      ]
    },
    {
      "cell_type": "code",
      "execution_count": null,
      "metadata": {
        "id": "mwX8zOLYteJ3"
      },
      "outputs": [],
      "source": [
        "x=[\n",
        "    \"hi\",\n",
        "    \"how are you\",\n",
        "    \"whatis your name\"\n",
        "    'where are you from'\n",
        "]"
      ]
    },
    {
      "cell_type": "code",
      "execution_count": null,
      "metadata": {
        "id": "dpHcQUX4zfvl"
      },
      "outputs": [],
      "source": [
        "k={\n",
        "    \"hi\":\"hello\",\n",
        "    \"kk\":\"ll\",\n",
        "    \"how are you\": \"i am fine\",\n",
        "    \"whats your name\":\"i am chat box\",\n",
        "    \"default\":\"i am sorry i dont understand could you repharse your question\"     #create your own input data\n",
        "}"
      ]
    },
    {
      "cell_type": "code",
      "execution_count": null,
      "metadata": {
        "id": "LqI9XhlFxmZl"
      },
      "outputs": [],
      "source": [
        "y=[\n",
        "    \"hello\",\n",
        "    \"i am fine\",\n",
        "    \"my name is chat box\",\n",
        "    \" i am ai based chat box\"\n",
        "]"
      ]
    },
    {
      "cell_type": "code",
      "execution_count": null,
      "metadata": {
        "id": "_uqqZ2wvyaxy"
      },
      "outputs": [],
      "source": [
        "#crete a object for class chatbox. and call each function"
      ]
    },
    {
      "cell_type": "code",
      "execution_count": null,
      "metadata": {
        "id": "DlSMQPoSye0K"
      },
      "outputs": [],
      "source": [
        " c=chatbox()"
      ]
    },
    {
      "cell_type": "code",
      "execution_count": null,
      "metadata": {
        "colab": {
          "background_save": true,
          "base_uri": "https://localhost:8080/"
        },
        "id": "3TdqTEZPt3tH",
        "outputId": "bdcbca2d-51c3-4a99-fabd-59ebad0226e5"
      },
      "outputs": [
        {
          "name": "stdout",
          "output_type": "stream",
          "text": [
            "the output is hello\n",
            "the output is i am fine\n",
            "the output is i am chat box\n",
            "the output is i am sorry i dont understand could you repharse your question\n"
          ]
        }
      ],
      "source": [
        "while True:\n",
        "  user_input=input(\"enter what do you want\")\n",
        "\n",
        "  #now create a object to train\n",
        "  h=c.train(user_input,k)\n",
        "  print(\"the output is\",h)"
      ]
    }
  ],
  "metadata": {
    "colab": {
      "provenance": []
    },
    "kernelspec": {
      "display_name": "Python 3",
      "name": "python3"
    },
    "language_info": {
      "name": "python"
    }
  },
  "nbformat": 4,
  "nbformat_minor": 0
}